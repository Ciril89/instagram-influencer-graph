{
  "nbformat": 4,
  "nbformat_minor": 0,
  "metadata": {
    "colab": {
      "name": "Similar_AccountsV1.ipynb",
      "version": "0.3.2",
      "provenance": [],
      "include_colab_link": true
    },
    "kernelspec": {
      "name": "python3",
      "display_name": "Python 3"
    },
    "accelerator": "GPU"
  },
  "cells": [
    {
      "cell_type": "markdown",
      "metadata": {
        "id": "view-in-github",
        "colab_type": "text"
      },
      "source": [
        "<a href=\"https://colab.research.google.com/github/Ciril89/instagram-influencer-graph/blob/master/Similar_AccountsV1.ipynb\" target=\"_parent\"><img src=\"https://colab.research.google.com/assets/colab-badge.svg\" alt=\"Open In Colab\"/></a>"
      ]
    },
    {
      "metadata": {
        "id": "YVWo8TVnC8i7",
        "colab_type": "code",
        "colab": {}
      },
      "cell_type": "code",
      "source": [
        "import os\n",
        "import pandas as pd"
      ],
      "execution_count": 0,
      "outputs": []
    },
    {
      "metadata": {
        "id": "cFCJzcR2QD0C",
        "colab_type": "code",
        "outputId": "308d6499-9420-41bb-da25-cfb64b2c36ba",
        "colab": {
          "base_uri": "https://localhost:8080/",
          "height": 319
        }
      },
      "cell_type": "code",
      "source": [
        "!pip install PyDrive\n",
        "from pydrive.auth import GoogleAuth\n",
        "from pydrive.drive import GoogleDrive\n",
        "from google.colab import auth\n",
        "from oauth2client.client import GoogleCredentials"
      ],
      "execution_count": 0,
      "outputs": [
        {
          "output_type": "stream",
          "text": [
            "Collecting PyDrive\n",
            "\u001b[?25l  Downloading https://files.pythonhosted.org/packages/52/e0/0e64788e5dd58ce2d6934549676243dc69d982f198524be9b99e9c2a4fd5/PyDrive-1.3.1.tar.gz (987kB)\n",
            "\r\u001b[K    1% |▎                               | 10kB 19.5MB/s eta 0:00:01\r\u001b[K    2% |▋                               | 20kB 1.8MB/s eta 0:00:01\r\u001b[K    3% |█                               | 30kB 2.6MB/s eta 0:00:01\r\u001b[K    4% |█▎                              | 40kB 1.7MB/s eta 0:00:01\r\u001b[K    5% |█▋                              | 51kB 2.1MB/s eta 0:00:01\r\u001b[K    6% |██                              | 61kB 2.5MB/s eta 0:00:01\r\u001b[K    7% |██▎                             | 71kB 2.9MB/s eta 0:00:01\r\u001b[K    8% |██▋                             | 81kB 3.3MB/s eta 0:00:01\r\u001b[K    9% |███                             | 92kB 3.7MB/s eta 0:00:01\r\u001b[K    10% |███▎                            | 102kB 2.8MB/s eta 0:00:01\r\u001b[K    11% |███▋                            | 112kB 2.8MB/s eta 0:00:01\r\u001b[K    12% |████                            | 122kB 4.1MB/s eta 0:00:01\r\u001b[K    13% |████▎                           | 133kB 4.0MB/s eta 0:00:01\r\u001b[K    14% |████▋                           | 143kB 7.6MB/s eta 0:00:01\r\u001b[K    15% |█████                           | 153kB 7.6MB/s eta 0:00:01\r\u001b[K    16% |█████▎                          | 163kB 7.6MB/s eta 0:00:01\r\u001b[K    17% |█████▋                          | 174kB 7.7MB/s eta 0:00:01\r\u001b[K    18% |██████                          | 184kB 7.7MB/s eta 0:00:01\r\u001b[K    19% |██████▎                         | 194kB 7.7MB/s eta 0:00:01\r\u001b[K    20% |██████▋                         | 204kB 40.5MB/s eta 0:00:01\r\u001b[K    21% |███████                         | 215kB 8.5MB/s eta 0:00:01\r\u001b[K    22% |███████▎                        | 225kB 8.5MB/s eta 0:00:01\r\u001b[K    23% |███████▋                        | 235kB 8.6MB/s eta 0:00:01\r\u001b[K    24% |████████                        | 245kB 8.6MB/s eta 0:00:01\r\u001b[K    25% |████████▎                       | 256kB 8.6MB/s eta 0:00:01\r\u001b[K    26% |████████▋                       | 266kB 8.4MB/s eta 0:00:01\r\u001b[K    27% |█████████                       | 276kB 8.5MB/s eta 0:00:01\r\u001b[K    29% |█████████▎                      | 286kB 8.5MB/s eta 0:00:01\r\u001b[K    30% |█████████▋                      | 296kB 8.5MB/s eta 0:00:01\r\u001b[K    31% |██████████                      | 307kB 8.6MB/s eta 0:00:01\r\u001b[K    32% |██████████▎                     | 317kB 44.9MB/s eta 0:00:01\r\u001b[K    33% |██████████▋                     | 327kB 44.7MB/s eta 0:00:01\r\u001b[K    34% |███████████                     | 337kB 46.5MB/s eta 0:00:01\r\u001b[K    35% |███████████▎                    | 348kB 41.4MB/s eta 0:00:01\r\u001b[K    36% |███████████▋                    | 358kB 42.2MB/s eta 0:00:01\r\u001b[K    37% |████████████                    | 368kB 48.8MB/s eta 0:00:01\r\u001b[K    38% |████████████▎                   | 378kB 48.5MB/s eta 0:00:01\r\u001b[K    39% |████████████▋                   | 389kB 49.2MB/s eta 0:00:01\r\u001b[K    40% |█████████████                   | 399kB 9.9MB/s eta 0:00:01\r\u001b[K    41% |█████████████▎                  | 409kB 9.8MB/s eta 0:00:01\r\u001b[K    42% |█████████████▋                  | 419kB 9.8MB/s eta 0:00:01\r\u001b[K    43% |██████████████                  | 430kB 9.7MB/s eta 0:00:01\r\u001b[K    44% |██████████████▎                 | 440kB 9.7MB/s eta 0:00:01\r\u001b[K    45% |██████████████▋                 | 450kB 9.9MB/s eta 0:00:01\r\u001b[K    46% |███████████████                 | 460kB 9.8MB/s eta 0:00:01\r\u001b[K    47% |███████████████▎                | 471kB 9.8MB/s eta 0:00:01\r\u001b[K    48% |███████████████▋                | 481kB 9.8MB/s eta 0:00:01\r\u001b[K    49% |████████████████                | 491kB 9.8MB/s eta 0:00:01\r\u001b[K    50% |████████████████▎               | 501kB 49.0MB/s eta 0:00:01\r\u001b[K    51% |████████████████▋               | 512kB 46.8MB/s eta 0:00:01\r\u001b[K    52% |█████████████████               | 522kB 48.1MB/s eta 0:00:01\r\u001b[K    53% |█████████████████▎              | 532kB 50.5MB/s eta 0:00:01\r\u001b[K    54% |█████████████████▋              | 542kB 8.9MB/s eta 0:00:01\r\u001b[K    55% |██████████████████              | 552kB 8.9MB/s eta 0:00:01\r\u001b[K    57% |██████████████████▎             | 563kB 8.9MB/s eta 0:00:01\r\u001b[K    58% |██████████████████▋             | 573kB 8.8MB/s eta 0:00:01\r\u001b[K    59% |███████████████████             | 583kB 8.8MB/s eta 0:00:01\r\u001b[K    60% |███████████████████▎            | 593kB 8.8MB/s eta 0:00:01\r\u001b[K    61% |███████████████████▋            | 604kB 8.8MB/s eta 0:00:01\r\u001b[K    62% |████████████████████            | 614kB 8.9MB/s eta 0:00:01\r\u001b[K    63% |████████████████████▎           | 624kB 8.9MB/s eta 0:00:01\r\u001b[K    64% |████████████████████▋           | 634kB 8.9MB/s eta 0:00:01\r\u001b[K    65% |█████████████████████           | 645kB 50.6MB/s eta 0:00:01\r\u001b[K    66% |█████████████████████▎          | 655kB 51.0MB/s eta 0:00:01\r\u001b[K    67% |█████████████████████▋          | 665kB 41.4MB/s eta 0:00:01\r\u001b[K    68% |██████████████████████          | 675kB 41.8MB/s eta 0:00:01\r\u001b[K    69% |██████████████████████▎         | 686kB 41.7MB/s eta 0:00:01\r\u001b[K    70% |██████████████████████▋         | 696kB 42.6MB/s eta 0:00:01\r\u001b[K    71% |███████████████████████         | 706kB 42.5MB/s eta 0:00:01\r\u001b[K    72% |███████████████████████▎        | 716kB 43.2MB/s eta 0:00:01\r\u001b[K    73% |███████████████████████▋        | 727kB 42.8MB/s eta 0:00:01\r\u001b[K    74% |████████████████████████        | 737kB 42.0MB/s eta 0:00:01\r\u001b[K    75% |████████████████████████▎       | 747kB 42.9MB/s eta 0:00:01\r\u001b[K    76% |████████████████████████▋       | 757kB 43.2MB/s eta 0:00:01\r\u001b[K    77% |████████████████████████▉       | 768kB 57.7MB/s eta 0:00:01\r\u001b[K    78% |█████████████████████████▏      | 778kB 56.8MB/s eta 0:00:01\r\u001b[K    79% |█████████████████████████▌      | 788kB 56.6MB/s eta 0:00:01\r\u001b[K    80% |█████████████████████████▉      | 798kB 56.4MB/s eta 0:00:01\r\u001b[K    81% |██████████████████████████▏     | 808kB 56.8MB/s eta 0:00:01\r\u001b[K    82% |██████████████████████████▌     | 819kB 56.1MB/s eta 0:00:01\r\u001b[K    83% |██████████████████████████▉     | 829kB 57.6MB/s eta 0:00:01\r\u001b[K    85% |███████████████████████████▏    | 839kB 57.5MB/s eta 0:00:01\r\u001b[K    86% |███████████████████████████▌    | 849kB 57.0MB/s eta 0:00:01\r\u001b[K    87% |███████████████████████████▉    | 860kB 52.3MB/s eta 0:00:01\r\u001b[K    88% |████████████████████████████▏   | 870kB 52.0MB/s eta 0:00:01\r\u001b[K    89% |████████████████████████████▌   | 880kB 53.5MB/s eta 0:00:01\r\u001b[K    90% |████████████████████████████▉   | 890kB 53.1MB/s eta 0:00:01\r\u001b[K    91% |█████████████████████████████▏  | 901kB 52.7MB/s eta 0:00:01\r\u001b[K    92% |█████████████████████████████▌  | 911kB 53.2MB/s eta 0:00:01\r\u001b[K    93% |█████████████████████████████▉  | 921kB 53.4MB/s eta 0:00:01\r\u001b[K    94% |██████████████████████████████▏ | 931kB 53.6MB/s eta 0:00:01\r\u001b[K    95% |██████████████████████████████▌ | 942kB 54.8MB/s eta 0:00:01\r\u001b[K    96% |██████████████████████████████▉ | 952kB 53.9MB/s eta 0:00:01\r\u001b[K    97% |███████████████████████████████▏| 962kB 59.4MB/s eta 0:00:01\r\u001b[K    98% |███████████████████████████████▌| 972kB 59.4MB/s eta 0:00:01\r\u001b[K    99% |███████████████████████████████▉| 983kB 58.7MB/s eta 0:00:01\r\u001b[K    100% |████████████████████████████████| 993kB 20.5MB/s \n",
            "\u001b[?25hRequirement already satisfied: google-api-python-client>=1.2 in /usr/local/lib/python3.6/dist-packages (from PyDrive) (1.6.7)\n",
            "Requirement already satisfied: oauth2client>=4.0.0 in /usr/local/lib/python3.6/dist-packages (from PyDrive) (4.1.3)\n",
            "Requirement already satisfied: PyYAML>=3.0 in /usr/local/lib/python3.6/dist-packages (from PyDrive) (3.13)\n",
            "Requirement already satisfied: httplib2<1dev,>=0.9.2 in /usr/local/lib/python3.6/dist-packages (from google-api-python-client>=1.2->PyDrive) (0.11.3)\n",
            "Requirement already satisfied: uritemplate<4dev,>=3.0.0 in /usr/local/lib/python3.6/dist-packages (from google-api-python-client>=1.2->PyDrive) (3.0.0)\n",
            "Requirement already satisfied: six<2dev,>=1.6.1 in /usr/local/lib/python3.6/dist-packages (from google-api-python-client>=1.2->PyDrive) (1.11.0)\n",
            "Requirement already satisfied: pyasn1-modules>=0.0.5 in /usr/local/lib/python3.6/dist-packages (from oauth2client>=4.0.0->PyDrive) (0.2.2)\n",
            "Requirement already satisfied: rsa>=3.1.4 in /usr/local/lib/python3.6/dist-packages (from oauth2client>=4.0.0->PyDrive) (4.0)\n",
            "Requirement already satisfied: pyasn1>=0.1.7 in /usr/local/lib/python3.6/dist-packages (from oauth2client>=4.0.0->PyDrive) (0.4.4)\n",
            "Building wheels for collected packages: PyDrive\n",
            "  Running setup.py bdist_wheel for PyDrive ... \u001b[?25l-\b \bdone\n",
            "\u001b[?25h  Stored in directory: /root/.cache/pip/wheels/fa/d2/9a/d3b6b506c2da98289e5d417215ce34b696db856643bad779f4\n",
            "Successfully built PyDrive\n",
            "Installing collected packages: PyDrive\n",
            "Successfully installed PyDrive-1.3.1\n"
          ],
          "name": "stdout"
        }
      ]
    },
    {
      "metadata": {
        "id": "wOORTCgBRRo3",
        "colab_type": "code",
        "colab": {
          "base_uri": "https://localhost:8080/",
          "height": 714
        },
        "outputId": "bed3ac21-d704-4445-e936-4f5c07005176"
      },
      "cell_type": "code",
      "source": [
        "! pip install gensim"
      ],
      "execution_count": 2,
      "outputs": [
        {
          "output_type": "stream",
          "text": [
            "Collecting gensim\n",
            "\u001b[?25l  Downloading https://files.pythonhosted.org/packages/27/a4/d10c0acc8528d838cda5eede0ee9c784caa598dbf40bd0911ff8d067a7eb/gensim-3.6.0-cp36-cp36m-manylinux1_x86_64.whl (23.6MB)\n",
            "\u001b[K    100% |████████████████████████████████| 23.6MB 1.7MB/s \n",
            "\u001b[?25hRequirement already satisfied: numpy>=1.11.3 in /usr/local/lib/python3.6/dist-packages (from gensim) (1.14.6)\n",
            "Collecting smart-open>=1.2.1 (from gensim)\n",
            "  Downloading https://files.pythonhosted.org/packages/4b/1f/6f27e3682124de63ac97a0a5876da6186de6c19410feab66c1543afab055/smart_open-1.7.1.tar.gz\n",
            "Requirement already satisfied: scipy>=0.18.1 in /usr/local/lib/python3.6/dist-packages (from gensim) (1.1.0)\n",
            "Requirement already satisfied: six>=1.5.0 in /usr/local/lib/python3.6/dist-packages (from gensim) (1.11.0)\n",
            "Collecting boto>=2.32 (from smart-open>=1.2.1->gensim)\n",
            "\u001b[?25l  Downloading https://files.pythonhosted.org/packages/23/10/c0b78c27298029e4454a472a1919bde20cb182dab1662cec7f2ca1dcc523/boto-2.49.0-py2.py3-none-any.whl (1.4MB)\n",
            "\u001b[K    100% |████████████████████████████████| 1.4MB 16.0MB/s \n",
            "\u001b[?25hCollecting bz2file (from smart-open>=1.2.1->gensim)\n",
            "  Downloading https://files.pythonhosted.org/packages/61/39/122222b5e85cd41c391b68a99ee296584b2a2d1d233e7ee32b4532384f2d/bz2file-0.98.tar.gz\n",
            "Requirement already satisfied: requests in /usr/local/lib/python3.6/dist-packages (from smart-open>=1.2.1->gensim) (2.18.4)\n",
            "Collecting boto3 (from smart-open>=1.2.1->gensim)\n",
            "\u001b[?25l  Downloading https://files.pythonhosted.org/packages/97/5e/d39501836d6b3a198fc8ca34ca058f82f555c0e48b7a929f972cfc066e99/boto3-1.9.53-py2.py3-none-any.whl (128kB)\n",
            "\u001b[K    100% |████████████████████████████████| 133kB 13.3MB/s \n",
            "\u001b[?25hRequirement already satisfied: certifi>=2017.4.17 in /usr/local/lib/python3.6/dist-packages (from requests->smart-open>=1.2.1->gensim) (2018.10.15)\n",
            "Requirement already satisfied: idna<2.7,>=2.5 in /usr/local/lib/python3.6/dist-packages (from requests->smart-open>=1.2.1->gensim) (2.6)\n",
            "Requirement already satisfied: urllib3<1.23,>=1.21.1 in /usr/local/lib/python3.6/dist-packages (from requests->smart-open>=1.2.1->gensim) (1.22)\n",
            "Requirement already satisfied: chardet<3.1.0,>=3.0.2 in /usr/local/lib/python3.6/dist-packages (from requests->smart-open>=1.2.1->gensim) (3.0.4)\n",
            "Collecting s3transfer<0.2.0,>=0.1.10 (from boto3->smart-open>=1.2.1->gensim)\n",
            "\u001b[?25l  Downloading https://files.pythonhosted.org/packages/d7/14/2a0004d487464d120c9fb85313a75cd3d71a7506955be458eebfe19a6b1d/s3transfer-0.1.13-py2.py3-none-any.whl (59kB)\n",
            "\u001b[K    100% |████████████████████████████████| 61kB 25.9MB/s \n",
            "\u001b[?25hCollecting jmespath<1.0.0,>=0.7.1 (from boto3->smart-open>=1.2.1->gensim)\n",
            "  Downloading https://files.pythonhosted.org/packages/b7/31/05c8d001f7f87f0f07289a5fc0fc3832e9a57f2dbd4d3b0fee70e0d51365/jmespath-0.9.3-py2.py3-none-any.whl\n",
            "Collecting botocore<1.13.0,>=1.12.53 (from boto3->smart-open>=1.2.1->gensim)\n",
            "\u001b[?25l  Downloading https://files.pythonhosted.org/packages/1a/f6/1b481cef9ad9978b8c8e57713416af5b041d7742912087188fc46a638480/botocore-1.12.53-py2.py3-none-any.whl (5.0MB)\n",
            "\u001b[K    100% |████████████████████████████████| 5.0MB 6.7MB/s \n",
            "\u001b[?25hRequirement already satisfied: python-dateutil<3.0.0,>=2.1; python_version >= \"2.7\" in /usr/local/lib/python3.6/dist-packages (from botocore<1.13.0,>=1.12.53->boto3->smart-open>=1.2.1->gensim) (2.5.3)\n",
            "Collecting docutils>=0.10 (from botocore<1.13.0,>=1.12.53->boto3->smart-open>=1.2.1->gensim)\n",
            "\u001b[?25l  Downloading https://files.pythonhosted.org/packages/36/fa/08e9e6e0e3cbd1d362c3bbee8d01d0aedb2155c4ac112b19ef3cae8eed8d/docutils-0.14-py3-none-any.whl (543kB)\n",
            "\u001b[K    100% |████████████████████████████████| 552kB 24.6MB/s \n",
            "\u001b[?25hBuilding wheels for collected packages: smart-open, bz2file\n",
            "  Running setup.py bdist_wheel for smart-open ... \u001b[?25l-\b \bdone\n",
            "\u001b[?25h  Stored in directory: /root/.cache/pip/wheels/23/00/44/e5b939f7a80c04e32297dbd6d96fa3065af89ecf57e2b5f89f\n",
            "  Running setup.py bdist_wheel for bz2file ... \u001b[?25l-\b \bdone\n",
            "\u001b[?25h  Stored in directory: /root/.cache/pip/wheels/81/75/d6/e1317bf09bf1af5a30befc2a007869fa6e1f516b8f7c591cb9\n",
            "Successfully built smart-open bz2file\n",
            "Installing collected packages: boto, bz2file, jmespath, docutils, botocore, s3transfer, boto3, smart-open, gensim\n",
            "Successfully installed boto-2.49.0 boto3-1.9.53 botocore-1.12.53 bz2file-0.98 docutils-0.14 gensim-3.6.0 jmespath-0.9.3 s3transfer-0.1.13 smart-open-1.7.1\n"
          ],
          "name": "stdout"
        }
      ]
    },
    {
      "metadata": {
        "id": "UmdneLU-RRt3",
        "colab_type": "code",
        "outputId": "5e81fb5e-dbb8-4d30-dd63-0fb8eee9bcbb",
        "colab": {
          "base_uri": "https://localhost:8080/",
          "height": 3706
        }
      },
      "cell_type": "code",
      "source": [
        "import nltk\n",
        "nltk.download()"
      ],
      "execution_count": 96,
      "outputs": [
        {
          "output_type": "stream",
          "text": [
            "NLTK Downloader\n",
            "---------------------------------------------------------------------------\n",
            "    d) Download   l) List    u) Update   c) Config   h) Help   q) Quit\n",
            "---------------------------------------------------------------------------\n",
            "Downloader> d\n",
            "\n",
            "Download which package (l=list; x=cancel)?\n",
            "  Identifier> l\n",
            "Packages:\n",
            "  [ ] abc................. Australian Broadcasting Commission 2006\n",
            "  [ ] alpino.............. Alpino Dutch Treebank\n",
            "  [ ] averaged_perceptron_tagger Averaged Perceptron Tagger\n",
            "  [ ] averaged_perceptron_tagger_ru Averaged Perceptron Tagger (Russian)\n",
            "  [ ] basque_grammars..... Grammars for Basque\n",
            "  [ ] biocreative_ppi..... BioCreAtIvE (Critical Assessment of Information\n",
            "                           Extraction Systems in Biology)\n",
            "  [ ] bllip_wsj_no_aux.... BLLIP Parser: WSJ Model\n",
            "  [ ] book_grammars....... Grammars from NLTK Book\n",
            "  [ ] brown............... Brown Corpus\n",
            "  [ ] brown_tei........... Brown Corpus (TEI XML Version)\n",
            "  [ ] cess_cat............ CESS-CAT Treebank\n",
            "  [ ] cess_esp............ CESS-ESP Treebank\n",
            "  [ ] chat80.............. Chat-80 Data Files\n",
            "  [ ] city_database....... City Database\n",
            "  [ ] cmudict............. The Carnegie Mellon Pronouncing Dictionary (0.6)\n",
            "  [ ] comparative_sentences Comparative Sentence Dataset\n",
            "  [ ] comtrans............ ComTrans Corpus Sample\n",
            "  [ ] conll2000........... CONLL 2000 Chunking Corpus\n",
            "  [ ] conll2002........... CONLL 2002 Named Entity Recognition Corpus\n",
            "Hit Enter to continue: brown\n",
            "  [ ] conll2007........... Dependency Treebanks from CoNLL 2007 (Catalan\n",
            "                           and Basque Subset)\n",
            "  [ ] crubadan............ Crubadan Corpus\n",
            "  [ ] dependency_treebank. Dependency Parsed Treebank\n",
            "  [ ] dolch............... Dolch Word List\n",
            "  [ ] europarl_raw........ Sample European Parliament Proceedings Parallel\n",
            "                           Corpus\n",
            "  [ ] floresta............ Portuguese Treebank\n",
            "  [ ] framenet_v15........ FrameNet 1.5\n",
            "  [ ] framenet_v17........ FrameNet 1.7\n",
            "  [ ] gazetteers.......... Gazeteer Lists\n",
            "  [ ] genesis............. Genesis Corpus\n",
            "  [ ] gutenberg........... Project Gutenberg Selections\n",
            "  [ ] ieer................ NIST IE-ER DATA SAMPLE\n",
            "  [ ] inaugural........... C-Span Inaugural Address Corpus\n",
            "  [ ] indian.............. Indian Language POS-Tagged Corpus\n",
            "  [ ] jeita............... JEITA Public Morphologically Tagged Corpus (in\n",
            "                           ChaSen format)\n",
            "  [ ] kimmo............... PC-KIMMO Data Files\n",
            "  [ ] knbc................ KNB Corpus (Annotated blog corpus)\n",
            "  [ ] large_grammars...... Large context-free and feature-based grammars\n",
            "                           for parser comparison\n",
            "Hit Enter to continue: \n",
            "  [ ] lin_thesaurus....... Lin's Dependency Thesaurus\n",
            "  [ ] mac_morpho.......... MAC-MORPHO: Brazilian Portuguese news text with\n",
            "                           part-of-speech tags\n",
            "  [ ] machado............. Machado de Assis -- Obra Completa\n",
            "  [ ] masc_tagged......... MASC Tagged Corpus\n",
            "  [ ] maxent_ne_chunker... ACE Named Entity Chunker (Maximum entropy)\n",
            "  [ ] maxent_treebank_pos_tagger Treebank Part of Speech Tagger (Maximum entropy)\n",
            "  [ ] moses_sample........ Moses Sample Models\n",
            "  [ ] movie_reviews....... Sentiment Polarity Dataset Version 2.0\n",
            "  [ ] mte_teip5........... MULTEXT-East 1984 annotated corpus 4.0\n",
            "  [ ] mwa_ppdb............ The monolingual word aligner (Sultan et al.\n",
            "                           2015) subset of the Paraphrase Database.\n",
            "  [ ] names............... Names Corpus, Version 1.3 (1994-03-29)\n",
            "  [ ] nombank.1.0......... NomBank Corpus 1.0\n",
            "  [ ] nonbreaking_prefixes Non-Breaking Prefixes (Moses Decoder)\n",
            "  [ ] nps_chat............ NPS Chat\n",
            "  [ ] omw................. Open Multilingual Wordnet\n",
            "  [ ] opinion_lexicon..... Opinion Lexicon\n",
            "  [ ] panlex_swadesh...... PanLex Swadesh Corpora\n",
            "  [ ] paradigms........... Paradigm Corpus\n",
            "  [ ] pe08................ Cross-Framework and Cross-Domain Parser\n",
            "                           Evaluation Shared Task\n",
            "Hit Enter to continue: \n",
            "  [ ] perluniprops........ perluniprops: Index of Unicode Version 7.0.0\n",
            "                           character properties in Perl\n",
            "  [ ] pil................. The Patient Information Leaflet (PIL) Corpus\n",
            "  [ ] pl196x.............. Polish language of the XX century sixties\n",
            "  [ ] porter_test......... Porter Stemmer Test Files\n",
            "  [ ] ppattach............ Prepositional Phrase Attachment Corpus\n",
            "  [ ] problem_reports..... Problem Report Corpus\n",
            "  [ ] product_reviews_1... Product Reviews (5 Products)\n",
            "  [ ] product_reviews_2... Product Reviews (9 Products)\n",
            "  [ ] propbank............ Proposition Bank Corpus 1.0\n",
            "  [ ] pros_cons........... Pros and Cons\n",
            "  [ ] ptb................. Penn Treebank\n",
            "  [ ] punkt............... Punkt Tokenizer Models\n",
            "  [ ] qc.................. Experimental Data for Question Classification\n",
            "  [ ] reuters............. The Reuters-21578 benchmark corpus, ApteMod\n",
            "                           version\n",
            "  [ ] rslp................ RSLP Stemmer (Removedor de Sufixos da Lingua\n",
            "                           Portuguesa)\n",
            "  [ ] rte................. PASCAL RTE Challenges 1, 2, and 3\n",
            "  [ ] sample_grammars..... Sample Grammars\n",
            "  [ ] semcor.............. SemCor 3.0\n",
            "Hit Enter to continue: \n",
            "  [ ] senseval............ SENSEVAL 2 Corpus: Sense Tagged Text\n",
            "  [ ] sentence_polarity... Sentence Polarity Dataset v1.0\n",
            "  [ ] sentiwordnet........ SentiWordNet\n",
            "  [ ] shakespeare......... Shakespeare XML Corpus Sample\n",
            "  [ ] sinica_treebank..... Sinica Treebank Corpus Sample\n",
            "  [ ] smultron............ SMULTRON Corpus Sample\n",
            "  [ ] snowball_data....... Snowball Data\n",
            "  [ ] spanish_grammars.... Grammars for Spanish\n",
            "  [ ] state_union......... C-Span State of the Union Address Corpus\n",
            "  [ ] stopwords........... Stopwords Corpus\n",
            "  [ ] subjectivity........ Subjectivity Dataset v1.0\n",
            "  [ ] swadesh............. Swadesh Wordlists\n",
            "  [ ] switchboard......... Switchboard Corpus Sample\n",
            "  [ ] tagsets............. Help on Tagsets\n",
            "  [ ] timit............... TIMIT Corpus Sample\n",
            "  [ ] toolbox............. Toolbox Sample Files\n",
            "  [ ] treebank............ Penn Treebank Sample\n",
            "  [ ] twitter_samples..... Twitter Samples\n",
            "  [ ] udhr2............... Universal Declaration of Human Rights Corpus\n",
            "                           (Unicode Version)\n",
            "  [ ] udhr................ Universal Declaration of Human Rights Corpus\n",
            "Hit Enter to continue: \n",
            "  [ ] unicode_samples..... Unicode Samples\n",
            "  [ ] universal_tagset.... Mappings to the Universal Part-of-Speech Tagset\n",
            "  [ ] universal_treebanks_v20 Universal Treebanks Version 2.0\n",
            "  [ ] vader_lexicon....... VADER Sentiment Lexicon\n",
            "  [ ] verbnet3............ VerbNet Lexicon, Version 3.3\n",
            "  [ ] verbnet............. VerbNet Lexicon, Version 2.1\n",
            "  [ ] webtext............. Web Text Corpus\n",
            "  [ ] wmt15_eval.......... Evaluation data from WMT15\n",
            "  [ ] word2vec_sample..... Word2Vec Sample\n",
            "  [ ] wordnet............. WordNet\n",
            "  [ ] wordnet_ic.......... WordNet-InfoContent\n",
            "  [ ] words............... Word Lists\n",
            "  [ ] ycoe................ York-Toronto-Helsinki Parsed Corpus of Old\n",
            "                           English Prose\n",
            "\n",
            "Collections:\n",
            "  [ ] all-corpora......... All the corpora\n",
            "  [ ] all-nltk............ All packages available on nltk_data gh-pages\n",
            "                           branch\n",
            "  [ ] all................. All packages\n",
            "  [ ] book................ Everything used in the NLTK Book\n",
            "  [ ] popular............. Popular packages\n",
            "Hit Enter to continue: \n",
            "  [ ] tests............... Packages for running tests\n",
            "  [ ] third-party......... Third-party data packages\n",
            "\n",
            "([*] marks installed packages)\n",
            "\n",
            "Download which package (l=list; x=cancel)?\n",
            "  Identifier> \n",
            "\n",
            "---------------------------------------------------------------------------\n",
            "    d) Download   l) List    u) Update   c) Config   h) Help   q) Quit\n",
            "---------------------------------------------------------------------------\n",
            "Downloader> \n",
            "\n",
            "---------------------------------------------------------------------------\n",
            "    d) Download   l) List    u) Update   c) Config   h) Help   q) Quit\n",
            "---------------------------------------------------------------------------\n",
            "Downloader> d\n",
            "\n",
            "Download which package (l=list; x=cancel)?\n",
            "  Identifier> l\n",
            "Packages:\n",
            "  [ ] abc................. Australian Broadcasting Commission 2006\n",
            "  [ ] alpino.............. Alpino Dutch Treebank\n",
            "  [ ] averaged_perceptron_tagger Averaged Perceptron Tagger\n",
            "  [ ] averaged_perceptron_tagger_ru Averaged Perceptron Tagger (Russian)\n",
            "  [ ] basque_grammars..... Grammars for Basque\n",
            "  [ ] biocreative_ppi..... BioCreAtIvE (Critical Assessment of Information\n",
            "                           Extraction Systems in Biology)\n",
            "  [ ] bllip_wsj_no_aux.... BLLIP Parser: WSJ Model\n",
            "  [ ] book_grammars....... Grammars from NLTK Book\n",
            "  [ ] brown............... Brown Corpus\n",
            "  [ ] brown_tei........... Brown Corpus (TEI XML Version)\n",
            "  [ ] cess_cat............ CESS-CAT Treebank\n",
            "  [ ] cess_esp............ CESS-ESP Treebank\n",
            "  [ ] chat80.............. Chat-80 Data Files\n",
            "  [ ] city_database....... City Database\n",
            "  [ ] cmudict............. The Carnegie Mellon Pronouncing Dictionary (0.6)\n",
            "  [ ] comparative_sentences Comparative Sentence Dataset\n",
            "  [ ] comtrans............ ComTrans Corpus Sample\n",
            "  [ ] conll2000........... CONLL 2000 Chunking Corpus\n",
            "  [ ] conll2002........... CONLL 2002 Named Entity Recognition Corpus\n",
            "Hit Enter to continue: book_grammars\n",
            "  [ ] conll2007........... Dependency Treebanks from CoNLL 2007 (Catalan\n",
            "                           and Basque Subset)\n",
            "  [ ] crubadan............ Crubadan Corpus\n",
            "  [ ] dependency_treebank. Dependency Parsed Treebank\n",
            "  [ ] dolch............... Dolch Word List\n",
            "  [ ] europarl_raw........ Sample European Parliament Proceedings Parallel\n",
            "                           Corpus\n",
            "  [ ] floresta............ Portuguese Treebank\n",
            "  [ ] framenet_v15........ FrameNet 1.5\n",
            "  [ ] framenet_v17........ FrameNet 1.7\n",
            "  [ ] gazetteers.......... Gazeteer Lists\n",
            "  [ ] genesis............. Genesis Corpus\n",
            "  [ ] gutenberg........... Project Gutenberg Selections\n",
            "  [ ] ieer................ NIST IE-ER DATA SAMPLE\n",
            "  [ ] inaugural........... C-Span Inaugural Address Corpus\n",
            "  [ ] indian.............. Indian Language POS-Tagged Corpus\n",
            "  [ ] jeita............... JEITA Public Morphologically Tagged Corpus (in\n",
            "                           ChaSen format)\n",
            "  [ ] kimmo............... PC-KIMMO Data Files\n",
            "  [ ] knbc................ KNB Corpus (Annotated blog corpus)\n",
            "  [ ] large_grammars...... Large context-free and feature-based grammars\n",
            "                           for parser comparison\n",
            "Hit Enter to continue: x\n",
            "\n",
            "Download which package (l=list; x=cancel)?\n",
            "  Identifier> x\n",
            "\n",
            "---------------------------------------------------------------------------\n",
            "    d) Download   l) List    u) Update   c) Config   h) Help   q) Quit\n",
            "---------------------------------------------------------------------------\n",
            "Downloader> x\n"
          ],
          "name": "stdout"
        },
        {
          "output_type": "execute_result",
          "data": {
            "text/plain": [
              "True"
            ]
          },
          "metadata": {
            "tags": []
          },
          "execution_count": 96
        }
      ]
    },
    {
      "metadata": {
        "id": "Yn0dNHZhSCvM",
        "colab_type": "code",
        "colab": {}
      },
      "cell_type": "code",
      "source": [
        "from gensim.models.doc2vec import Doc2Vec, TaggedDocument\n",
        "from nltk.tokenize import word_tokenize"
      ],
      "execution_count": 0,
      "outputs": []
    },
    {
      "metadata": {
        "id": "03KWMNlhDC-1",
        "colab_type": "code",
        "outputId": "41340fe9-16f5-4b2c-de12-659b1fdb1f33",
        "colab": {
          "resources": {
            "http://localhost:8080/nbextensions/google.colab/files.js": {
              "data": "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",
              "ok": true,
              "headers": [
                [
                  "content-type",
                  "application/javascript"
                ]
              ],
              "status": 200,
              "status_text": ""
            }
          },
          "base_uri": "https://localhost:8080/",
          "height": 72
        }
      },
      "cell_type": "code",
      "source": [
        "from google.colab import files\n",
        "uploaded = files.upload()"
      ],
      "execution_count": 125,
      "outputs": [
        {
          "output_type": "display_data",
          "data": {
            "text/html": [
              "\n",
              "     <input type=\"file\" id=\"files-5fe4fb65-190a-4c8e-b5a7-f3948a94c26a\" name=\"files[]\" multiple disabled />\n",
              "     <output id=\"result-5fe4fb65-190a-4c8e-b5a7-f3948a94c26a\">\n",
              "      Upload widget is only available when the cell has been executed in the\n",
              "      current browser session. Please rerun this cell to enable.\n",
              "      </output>\n",
              "      <script src=\"/nbextensions/google.colab/files.js\"></script> "
            ],
            "text/plain": [
              "<IPython.core.display.HTML object>"
            ]
          },
          "metadata": {
            "tags": []
          }
        },
        {
          "output_type": "stream",
          "text": [
            "Saving accounts_df.csv to accounts_df (1).csv\n"
          ],
          "name": "stdout"
        }
      ]
    },
    {
      "metadata": {
        "id": "d20IfYo9SBdQ",
        "colab_type": "code",
        "colab": {}
      },
      "cell_type": "code",
      "source": [
        "import io\n",
        "import pandas as pd\n",
        "accounts = pd.read_csv(io.StringIO(uploaded['accounts_df.csv'].decode('utf-8')), index_col=['id'])"
      ],
      "execution_count": 0,
      "outputs": []
    },
    {
      "metadata": {
        "id": "Lvman0JPQRAc",
        "colab_type": "code",
        "colab": {}
      },
      "cell_type": "code",
      "source": [
        "data = accounts.copy()"
      ],
      "execution_count": 0,
      "outputs": []
    },
    {
      "metadata": {
        "id": "pU3GdJEH-iU8",
        "colab_type": "code",
        "colab": {
          "base_uri": "https://localhost:8080/",
          "height": 337
        },
        "outputId": "b4fe22b6-afd8-45ad-de9e-6079068479d0"
      },
      "cell_type": "code",
      "source": [
        "data.head(5)"
      ],
      "execution_count": 128,
      "outputs": [
        {
          "output_type": "execute_result",
          "data": {
            "text/html": [
              "<div>\n",
              "<style scoped>\n",
              "    .dataframe tbody tr th:only-of-type {\n",
              "        vertical-align: middle;\n",
              "    }\n",
              "\n",
              "    .dataframe tbody tr th {\n",
              "        vertical-align: top;\n",
              "    }\n",
              "\n",
              "    .dataframe thead th {\n",
              "        text-align: right;\n",
              "    }\n",
              "</style>\n",
              "<table border=\"1\" class=\"dataframe\">\n",
              "  <thead>\n",
              "    <tr style=\"text-align: right;\">\n",
              "      <th></th>\n",
              "      <th>Unnamed: 0</th>\n",
              "      <th>username</th>\n",
              "      <th>num_posts</th>\n",
              "      <th>bio</th>\n",
              "      <th>num_following</th>\n",
              "      <th>num_followers</th>\n",
              "      <th>is_private</th>\n",
              "      <th>is_verified</th>\n",
              "      <th>profile_pic_url</th>\n",
              "      <th>name</th>\n",
              "      <th>posts_extracted</th>\n",
              "      <th>last_update</th>\n",
              "    </tr>\n",
              "    <tr>\n",
              "      <th>id</th>\n",
              "      <th></th>\n",
              "      <th></th>\n",
              "      <th></th>\n",
              "      <th></th>\n",
              "      <th></th>\n",
              "      <th></th>\n",
              "      <th></th>\n",
              "      <th></th>\n",
              "      <th></th>\n",
              "      <th></th>\n",
              "      <th></th>\n",
              "      <th></th>\n",
              "    </tr>\n",
              "  </thead>\n",
              "  <tbody>\n",
              "    <tr>\n",
              "      <th>3044715076</th>\n",
              "      <td>0</td>\n",
              "      <td>ejerciciosdegluteos</td>\n",
              "      <td>421</td>\n",
              "      <td>Epic workouts with the best fitness models of ...</td>\n",
              "      <td>14</td>\n",
              "      <td>133981</td>\n",
              "      <td>False</td>\n",
              "      <td>False</td>\n",
              "      <td>https://scontent-ort2-1.cdninstagram.com/vp/92...</td>\n",
              "      <td>Ejercicios De Gluteos</td>\n",
              "      <td>True</td>\n",
              "      <td>2018-10-18 23:12:44.913404</td>\n",
              "    </tr>\n",
              "    <tr>\n",
              "      <th>1639152756</th>\n",
              "      <td>1</td>\n",
              "      <td>sabrinasjourney_</td>\n",
              "      <td>5400</td>\n",
              "      <td>Your favorite coach|Business Mentor\\r\\n25 Poun...</td>\n",
              "      <td>5324</td>\n",
              "      <td>34049</td>\n",
              "      <td>False</td>\n",
              "      <td>False</td>\n",
              "      <td>https://scontent-ort2-1.cdninstagram.com/vp/98...</td>\n",
              "      <td>Sabrina 🇵🇷🇹🇹</td>\n",
              "      <td>True</td>\n",
              "      <td>2018-10-28 01:23:07.570594</td>\n",
              "    </tr>\n",
              "    <tr>\n",
              "      <th>200455459</th>\n",
              "      <td>2</td>\n",
              "      <td>igedz_executioner</td>\n",
              "      <td>611</td>\n",
              "      <td>💪Indonesian heavyweight bodybuilder champion 🥇...</td>\n",
              "      <td>798</td>\n",
              "      <td>53771</td>\n",
              "      <td>False</td>\n",
              "      <td>False</td>\n",
              "      <td>https://scontent-ort2-1.cdninstagram.com/vp/12...</td>\n",
              "      <td>Igede Dharma Susila</td>\n",
              "      <td>True</td>\n",
              "      <td>2018-10-19 11:58:13.840239</td>\n",
              "    </tr>\n",
              "    <tr>\n",
              "      <th>5724269803</th>\n",
              "      <td>3</td>\n",
              "      <td>margaux_ragnar</td>\n",
              "      <td>253</td>\n",
              "      <td>🌏📍🇫🇷 France - Sud\\r\\n👪💍⚒ Viking family\\r\\n🥗🤦🏽‍...</td>\n",
              "      <td>251</td>\n",
              "      <td>35538</td>\n",
              "      <td>False</td>\n",
              "      <td>False</td>\n",
              "      <td>https://scontent-ort2-1.cdninstagram.com/vp/1a...</td>\n",
              "      <td>margaux_ragnar</td>\n",
              "      <td>True</td>\n",
              "      <td>2018-10-25 12:44:00.267029</td>\n",
              "    </tr>\n",
              "    <tr>\n",
              "      <th>319416872</th>\n",
              "      <td>4</td>\n",
              "      <td>smile_xxvii</td>\n",
              "      <td>1125</td>\n",
              "      <td>SMILE XXVII Studios creates content for celebr...</td>\n",
              "      <td>210</td>\n",
              "      <td>33532</td>\n",
              "      <td>False</td>\n",
              "      <td>False</td>\n",
              "      <td>https://scontent-ort2-1.cdninstagram.com/vp/1f...</td>\n",
              "      <td>Nils Erik, MFA 🇳🇴</td>\n",
              "      <td>True</td>\n",
              "      <td>2018-11-07 06:49:31.839515</td>\n",
              "    </tr>\n",
              "  </tbody>\n",
              "</table>\n",
              "</div>"
            ],
            "text/plain": [
              "            Unnamed: 0             username  num_posts  \\\n",
              "id                                                       \n",
              "3044715076           0  ejerciciosdegluteos        421   \n",
              "1639152756           1     sabrinasjourney_       5400   \n",
              "200455459            2    igedz_executioner        611   \n",
              "5724269803           3       margaux_ragnar        253   \n",
              "319416872            4          smile_xxvii       1125   \n",
              "\n",
              "                                                          bio  num_following  \\\n",
              "id                                                                             \n",
              "3044715076  Epic workouts with the best fitness models of ...             14   \n",
              "1639152756  Your favorite coach|Business Mentor\\r\\n25 Poun...           5324   \n",
              "200455459   💪Indonesian heavyweight bodybuilder champion 🥇...            798   \n",
              "5724269803  🌏📍🇫🇷 France - Sud\\r\\n👪💍⚒ Viking family\\r\\n🥗🤦🏽‍...            251   \n",
              "319416872   SMILE XXVII Studios creates content for celebr...            210   \n",
              "\n",
              "            num_followers  is_private  is_verified  \\\n",
              "id                                                   \n",
              "3044715076         133981       False        False   \n",
              "1639152756          34049       False        False   \n",
              "200455459           53771       False        False   \n",
              "5724269803          35538       False        False   \n",
              "319416872           33532       False        False   \n",
              "\n",
              "                                              profile_pic_url  \\\n",
              "id                                                              \n",
              "3044715076  https://scontent-ort2-1.cdninstagram.com/vp/92...   \n",
              "1639152756  https://scontent-ort2-1.cdninstagram.com/vp/98...   \n",
              "200455459   https://scontent-ort2-1.cdninstagram.com/vp/12...   \n",
              "5724269803  https://scontent-ort2-1.cdninstagram.com/vp/1a...   \n",
              "319416872   https://scontent-ort2-1.cdninstagram.com/vp/1f...   \n",
              "\n",
              "                             name  posts_extracted                 last_update  \n",
              "id                                                                              \n",
              "3044715076  Ejercicios De Gluteos             True  2018-10-18 23:12:44.913404  \n",
              "1639152756           Sabrina 🇵🇷🇹🇹             True  2018-10-28 01:23:07.570594  \n",
              "200455459     Igede Dharma Susila             True  2018-10-19 11:58:13.840239  \n",
              "5724269803         margaux_ragnar             True  2018-10-25 12:44:00.267029  \n",
              "319416872       Nils Erik, MFA 🇳🇴             True  2018-11-07 06:49:31.839515  "
            ]
          },
          "metadata": {
            "tags": []
          },
          "execution_count": 128
        }
      ]
    },
    {
      "metadata": {
        "id": "9EhIVfMZDNts",
        "colab_type": "code",
        "colab": {}
      },
      "cell_type": "code",
      "source": [
        "data['text'] = accounts['bio']"
      ],
      "execution_count": 0,
      "outputs": []
    },
    {
      "metadata": {
        "id": "xF7PszsgNJod",
        "colab_type": "code",
        "colab": {
          "base_uri": "https://localhost:8080/",
          "height": 456
        },
        "outputId": "eccc484b-d84a-41a5-8f35-a8a28afb87c6"
      },
      "cell_type": "code",
      "source": [
        "data.head(5)"
      ],
      "execution_count": 131,
      "outputs": [
        {
          "output_type": "execute_result",
          "data": {
            "text/html": [
              "<div>\n",
              "<style scoped>\n",
              "    .dataframe tbody tr th:only-of-type {\n",
              "        vertical-align: middle;\n",
              "    }\n",
              "\n",
              "    .dataframe tbody tr th {\n",
              "        vertical-align: top;\n",
              "    }\n",
              "\n",
              "    .dataframe thead th {\n",
              "        text-align: right;\n",
              "    }\n",
              "</style>\n",
              "<table border=\"1\" class=\"dataframe\">\n",
              "  <thead>\n",
              "    <tr style=\"text-align: right;\">\n",
              "      <th></th>\n",
              "      <th>Unnamed: 0</th>\n",
              "      <th>username</th>\n",
              "      <th>num_posts</th>\n",
              "      <th>bio</th>\n",
              "      <th>num_following</th>\n",
              "      <th>num_followers</th>\n",
              "      <th>is_private</th>\n",
              "      <th>is_verified</th>\n",
              "      <th>profile_pic_url</th>\n",
              "      <th>name</th>\n",
              "      <th>posts_extracted</th>\n",
              "      <th>last_update</th>\n",
              "      <th>text</th>\n",
              "    </tr>\n",
              "    <tr>\n",
              "      <th>id</th>\n",
              "      <th></th>\n",
              "      <th></th>\n",
              "      <th></th>\n",
              "      <th></th>\n",
              "      <th></th>\n",
              "      <th></th>\n",
              "      <th></th>\n",
              "      <th></th>\n",
              "      <th></th>\n",
              "      <th></th>\n",
              "      <th></th>\n",
              "      <th></th>\n",
              "      <th></th>\n",
              "    </tr>\n",
              "  </thead>\n",
              "  <tbody>\n",
              "    <tr>\n",
              "      <th>3044715076</th>\n",
              "      <td>0</td>\n",
              "      <td>ejerciciosdegluteos</td>\n",
              "      <td>421</td>\n",
              "      <td>Epic workouts with the best fitness models of ...</td>\n",
              "      <td>14</td>\n",
              "      <td>133981</td>\n",
              "      <td>False</td>\n",
              "      <td>False</td>\n",
              "      <td>https://scontent-ort2-1.cdninstagram.com/vp/92...</td>\n",
              "      <td>Ejercicios De Gluteos</td>\n",
              "      <td>True</td>\n",
              "      <td>2018-10-18 23:12:44.913404</td>\n",
              "      <td>Epic workouts with the best fitness models of ...</td>\n",
              "    </tr>\n",
              "    <tr>\n",
              "      <th>1639152756</th>\n",
              "      <td>1</td>\n",
              "      <td>sabrinasjourney_</td>\n",
              "      <td>5400</td>\n",
              "      <td>Your favorite coach|Business Mentor\\r\\n25 Poun...</td>\n",
              "      <td>5324</td>\n",
              "      <td>34049</td>\n",
              "      <td>False</td>\n",
              "      <td>False</td>\n",
              "      <td>https://scontent-ort2-1.cdninstagram.com/vp/98...</td>\n",
              "      <td>Sabrina 🇵🇷🇹🇹</td>\n",
              "      <td>True</td>\n",
              "      <td>2018-10-28 01:23:07.570594</td>\n",
              "      <td>Your favorite coach|Business Mentor\\r\\n25 Poun...</td>\n",
              "    </tr>\n",
              "    <tr>\n",
              "      <th>200455459</th>\n",
              "      <td>2</td>\n",
              "      <td>igedz_executioner</td>\n",
              "      <td>611</td>\n",
              "      <td>💪Indonesian heavyweight bodybuilder champion 🥇...</td>\n",
              "      <td>798</td>\n",
              "      <td>53771</td>\n",
              "      <td>False</td>\n",
              "      <td>False</td>\n",
              "      <td>https://scontent-ort2-1.cdninstagram.com/vp/12...</td>\n",
              "      <td>Igede Dharma Susila</td>\n",
              "      <td>True</td>\n",
              "      <td>2018-10-19 11:58:13.840239</td>\n",
              "      <td>💪Indonesian heavyweight bodybuilder champion 🥇...</td>\n",
              "    </tr>\n",
              "    <tr>\n",
              "      <th>5724269803</th>\n",
              "      <td>3</td>\n",
              "      <td>margaux_ragnar</td>\n",
              "      <td>253</td>\n",
              "      <td>🌏📍🇫🇷 France - Sud\\r\\n👪💍⚒ Viking family\\r\\n🥗🤦🏽‍...</td>\n",
              "      <td>251</td>\n",
              "      <td>35538</td>\n",
              "      <td>False</td>\n",
              "      <td>False</td>\n",
              "      <td>https://scontent-ort2-1.cdninstagram.com/vp/1a...</td>\n",
              "      <td>margaux_ragnar</td>\n",
              "      <td>True</td>\n",
              "      <td>2018-10-25 12:44:00.267029</td>\n",
              "      <td>🌏📍🇫🇷 France - Sud\\r\\n👪💍⚒ Viking family\\r\\n🥗🤦🏽‍...</td>\n",
              "    </tr>\n",
              "    <tr>\n",
              "      <th>319416872</th>\n",
              "      <td>4</td>\n",
              "      <td>smile_xxvii</td>\n",
              "      <td>1125</td>\n",
              "      <td>SMILE XXVII Studios creates content for celebr...</td>\n",
              "      <td>210</td>\n",
              "      <td>33532</td>\n",
              "      <td>False</td>\n",
              "      <td>False</td>\n",
              "      <td>https://scontent-ort2-1.cdninstagram.com/vp/1f...</td>\n",
              "      <td>Nils Erik, MFA 🇳🇴</td>\n",
              "      <td>True</td>\n",
              "      <td>2018-11-07 06:49:31.839515</td>\n",
              "      <td>SMILE XXVII Studios creates content for celebr...</td>\n",
              "    </tr>\n",
              "  </tbody>\n",
              "</table>\n",
              "</div>"
            ],
            "text/plain": [
              "            Unnamed: 0             username  num_posts  \\\n",
              "id                                                       \n",
              "3044715076           0  ejerciciosdegluteos        421   \n",
              "1639152756           1     sabrinasjourney_       5400   \n",
              "200455459            2    igedz_executioner        611   \n",
              "5724269803           3       margaux_ragnar        253   \n",
              "319416872            4          smile_xxvii       1125   \n",
              "\n",
              "                                                          bio  num_following  \\\n",
              "id                                                                             \n",
              "3044715076  Epic workouts with the best fitness models of ...             14   \n",
              "1639152756  Your favorite coach|Business Mentor\\r\\n25 Poun...           5324   \n",
              "200455459   💪Indonesian heavyweight bodybuilder champion 🥇...            798   \n",
              "5724269803  🌏📍🇫🇷 France - Sud\\r\\n👪💍⚒ Viking family\\r\\n🥗🤦🏽‍...            251   \n",
              "319416872   SMILE XXVII Studios creates content for celebr...            210   \n",
              "\n",
              "            num_followers  is_private  is_verified  \\\n",
              "id                                                   \n",
              "3044715076         133981       False        False   \n",
              "1639152756          34049       False        False   \n",
              "200455459           53771       False        False   \n",
              "5724269803          35538       False        False   \n",
              "319416872           33532       False        False   \n",
              "\n",
              "                                              profile_pic_url  \\\n",
              "id                                                              \n",
              "3044715076  https://scontent-ort2-1.cdninstagram.com/vp/92...   \n",
              "1639152756  https://scontent-ort2-1.cdninstagram.com/vp/98...   \n",
              "200455459   https://scontent-ort2-1.cdninstagram.com/vp/12...   \n",
              "5724269803  https://scontent-ort2-1.cdninstagram.com/vp/1a...   \n",
              "319416872   https://scontent-ort2-1.cdninstagram.com/vp/1f...   \n",
              "\n",
              "                             name  posts_extracted  \\\n",
              "id                                                   \n",
              "3044715076  Ejercicios De Gluteos             True   \n",
              "1639152756           Sabrina 🇵🇷🇹🇹             True   \n",
              "200455459     Igede Dharma Susila             True   \n",
              "5724269803         margaux_ragnar             True   \n",
              "319416872       Nils Erik, MFA 🇳🇴             True   \n",
              "\n",
              "                           last_update  \\\n",
              "id                                       \n",
              "3044715076  2018-10-18 23:12:44.913404   \n",
              "1639152756  2018-10-28 01:23:07.570594   \n",
              "200455459   2018-10-19 11:58:13.840239   \n",
              "5724269803  2018-10-25 12:44:00.267029   \n",
              "319416872   2018-11-07 06:49:31.839515   \n",
              "\n",
              "                                                         text  \n",
              "id                                                             \n",
              "3044715076  Epic workouts with the best fitness models of ...  \n",
              "1639152756  Your favorite coach|Business Mentor\\r\\n25 Poun...  \n",
              "200455459   💪Indonesian heavyweight bodybuilder champion 🥇...  \n",
              "5724269803  🌏📍🇫🇷 France - Sud\\r\\n👪💍⚒ Viking family\\r\\n🥗🤦🏽‍...  \n",
              "319416872   SMILE XXVII Studios creates content for celebr...  "
            ]
          },
          "metadata": {
            "tags": []
          },
          "execution_count": 131
        }
      ]
    },
    {
      "metadata": {
        "id": "Cq-OKtCKHAPL",
        "colab_type": "code",
        "colab": {}
      },
      "cell_type": "code",
      "source": [
        "accounts['bio'] = accounts['bio'].str.replace('[^\\w\\s#@/:%.,_-]', '', flags=re.UNICODE)"
      ],
      "execution_count": 0,
      "outputs": []
    },
    {
      "metadata": {
        "id": "U9hzavHSJAlG",
        "colab_type": "code",
        "colab": {}
      },
      "cell_type": "code",
      "source": [
        "accounts['text'] = accounts['bio'].str.replace(\"\\r\\n\", \" \")"
      ],
      "execution_count": 0,
      "outputs": []
    },
    {
      "metadata": {
        "id": "tQkC3aDUJXrF",
        "colab_type": "code",
        "colab": {}
      },
      "cell_type": "code",
      "source": [
        "drop = ['Unnamed: 0',\t'username',\t'num_posts', \t'bio',\t'num_following',\t'num_followers',\t'is_private',\t'is_verified',\t'profile_pic_url',\t'name',\t'posts_extracted',\t'last_update'\t]"
      ],
      "execution_count": 0,
      "outputs": []
    },
    {
      "metadata": {
        "id": "0wOkhaZ0N1Ic",
        "colab_type": "code",
        "colab": {}
      },
      "cell_type": "code",
      "source": [
        "data.drop(drop, axis =1, inplace=True)"
      ],
      "execution_count": 0,
      "outputs": []
    },
    {
      "metadata": {
        "id": "Hhe-TRZ1wCiA",
        "colab_type": "code",
        "colab": {}
      },
      "cell_type": "code",
      "source": [
        ""
      ],
      "execution_count": 0,
      "outputs": []
    },
    {
      "metadata": {
        "id": "RNyw1sTziaIl",
        "colab_type": "code",
        "colab": {}
      },
      "cell_type": "code",
      "source": [
        "import string\n",
        "import re\n",
        "from nltk.corpus import stopwords\n",
        "from nltk.tokenize import TweetTokenizer\n",
        "import nltk\n",
        "import string\n",
        "import numpy as np\n",
        "from nltk.corpus import stopwords\n",
        "\n",
        "cache_english_stopwords=stopwords.words('english')\n",
        "\n",
        "# df is a pandas dataframe with a column['text'].\n",
        "\n",
        "def scrubber(df):\n",
        "    temp_df = df.copy()\n",
        "    # Remove hyperlinks\n",
        "    temp_df.loc[:, \"text\"] = temp_df.loc[:, \"text\"].replace('https?:\\/\\/.*\\/\\w*', '', regex=True)\n",
        "    # Remove hashtags\n",
        "    # temp_df.loc[:,\"text\"]=temp_df.loc[:,\"text\"].replace('#\\w*', '', regex=True)\n",
        "    temp_df.loc[:, \"text\"] = temp_df.loc[:, \"text\"].replace('#', ' ', regex=True)\n",
        "    # Remove citations\n",
        "    temp_df.loc[:, \"text\"] = temp_df.loc[:, \"text\"].replace('\\@\\w*', '', regex=True)\n",
        "    # Remove tickers\n",
        "    temp_df.loc[:, \"text\"] = temp_df.loc[:, \"text\"].replace('\\$\\w*', '', regex=True)\n",
        "    # Remove punctuation\n",
        "    temp_df.loc[:, \"text\"] = temp_df.loc[:, \"text\"].replace('[' + string.punctuation + ']+', '', regex=True)\n",
        "    # Remove quotes\n",
        "    temp_df.loc[:, \"text\"] = temp_df.loc[:, \"text\"].replace('\\&*[amp]*\\;|gt+', '', regex=True)\n",
        "    # Remove RT\n",
        "    temp_df.loc[:, \"text\"] = temp_df.loc[:, \"text\"].replace('\\s+rt\\s+', '', regex=True)\n",
        "    # Remove linebreak, tab, return\n",
        "    temp_df.loc[:, \"text\"] = temp_df.loc[:, \"text\"].replace('[\\n\\t\\r]+', ' ', regex=True)\n",
        "    # Remove via with blank\n",
        "    temp_df.loc[:, \"text\"] = temp_df.loc[:, \"text\"].replace('via+\\s', '', regex=True)\n",
        "    # Remove multiple whitespace\n",
        "    temp_df.loc[:, \"text\"] = temp_df.loc[:, \"text\"].replace('\\s+\\s+', ' ', regex=True)\n",
        "    # Remove empty rows\n",
        "    temp_df.loc[(temp_df[\"text\"] == '') | (temp_df['text'] == ' ')] = np.nan\n",
        "    #Remove Emoticons\n",
        "    temp_df.loc[:, \"text\"] = temp_df.loc[:, \"text\"].str.replace('[^\\w\\s#@/:%.,_-]', '', flags=re.UNICODE)\n",
        "    temp_df = temp_df.dropna()\n",
        "    return temp_df"
      ],
      "execution_count": 0,
      "outputs": []
    },
    {
      "metadata": {
        "id": "tuACJoDyht0C",
        "colab_type": "code",
        "colab": {}
      },
      "cell_type": "code",
      "source": [
        "clean_text = scrubber(data)\n"
      ],
      "execution_count": 0,
      "outputs": []
    },
    {
      "metadata": {
        "id": "Lr_D5-JRxDmn",
        "colab_type": "code",
        "colab": {}
      },
      "cell_type": "code",
      "source": [
        "input = clean_text['text']"
      ],
      "execution_count": 0,
      "outputs": []
    },
    {
      "metadata": {
        "id": "jmm6sX3hsyj0",
        "colab_type": "code",
        "colab": {}
      },
      "cell_type": "code",
      "source": [
        "from gensim.models.doc2vec import Doc2Vec, TaggedDocument\n",
        "from nltk.tokenize import word_tokenize"
      ],
      "execution_count": 0,
      "outputs": []
    },
    {
      "metadata": {
        "id": "5gwNCLLux9oK",
        "colab_type": "code",
        "colab": {}
      },
      "cell_type": "code",
      "source": [
        "tagged_data = [TaggedDocument(words=word_tokenize(_d.lower()), tags=[str(i)]) for i, _d in enumerate(input)]"
      ],
      "execution_count": 0,
      "outputs": []
    },
    {
      "metadata": {
        "id": "wtvG1g2301CL",
        "colab_type": "code",
        "colab": {}
      },
      "cell_type": "code",
      "source": [
        "tagged_data"
      ],
      "execution_count": 0,
      "outputs": []
    },
    {
      "metadata": {
        "id": "WIW2RM7MyGI5",
        "colab_type": "code",
        "colab": {
          "base_uri": "https://localhost:8080/",
          "height": 1802
        },
        "outputId": "5b7da598-0159-42b4-d59f-8e46727ae188"
      },
      "cell_type": "code",
      "source": [
        "max_epochs = 100\n",
        "vec_size = 50\n",
        "alpha = 0.025\n",
        "#dm = Distributed Memory version of Paragraph Vector (PV-DM)\n",
        "model = Doc2Vec(size=vec_size, alpha=alpha, min_alpha=0.00025, min_count=1, dm =1)  \n",
        "model.build_vocab(tagged_data)\n",
        "\n",
        "for epoch in range(max_epochs):\n",
        "    print('iteration {0}'.format(epoch))\n",
        "    model.train(tagged_data,\n",
        "                total_examples=model.corpus_count,\n",
        "                epochs=model.iter)\n",
        "    # decrease the learning rate\n",
        "    model.alpha -= 0.0002\n",
        "    # fix the learning rate, no decay\n",
        "    model.min_alpha = model.alpha\n",
        "\n",
        "model.save(\"d2v.model\")\n",
        "print(\"Model Saved\")"
      ],
      "execution_count": 164,
      "outputs": [
        {
          "output_type": "stream",
          "text": [
            "/usr/local/lib/python3.6/dist-packages/gensim/models/doc2vec.py:570: UserWarning: The parameter `size` is deprecated, will be removed in 4.0.0, use `vector_size` instead.\n",
            "  warnings.warn(\"The parameter `size` is deprecated, will be removed in 4.0.0, use `vector_size` instead.\")\n"
          ],
          "name": "stderr"
        },
        {
          "output_type": "stream",
          "text": [
            "iteration 0\n"
          ],
          "name": "stdout"
        },
        {
          "output_type": "stream",
          "text": [
            "/usr/local/lib/python3.6/dist-packages/ipykernel_launcher.py:12: DeprecationWarning: Call to deprecated `iter` (Attribute will be removed in 4.0.0, use self.epochs instead).\n",
            "  if sys.path[0] == '':\n"
          ],
          "name": "stderr"
        },
        {
          "output_type": "stream",
          "text": [
            "iteration 1\n",
            "iteration 2\n",
            "iteration 3\n",
            "iteration 4\n",
            "iteration 5\n",
            "iteration 6\n",
            "iteration 7\n",
            "iteration 8\n",
            "iteration 9\n",
            "iteration 10\n",
            "iteration 11\n",
            "iteration 12\n",
            "iteration 13\n",
            "iteration 14\n",
            "iteration 15\n",
            "iteration 16\n",
            "iteration 17\n",
            "iteration 18\n",
            "iteration 19\n",
            "iteration 20\n",
            "iteration 21\n",
            "iteration 22\n",
            "iteration 23\n",
            "iteration 24\n",
            "iteration 25\n",
            "iteration 26\n",
            "iteration 27\n",
            "iteration 28\n",
            "iteration 29\n",
            "iteration 30\n",
            "iteration 31\n",
            "iteration 32\n",
            "iteration 33\n",
            "iteration 34\n",
            "iteration 35\n",
            "iteration 36\n",
            "iteration 37\n",
            "iteration 38\n",
            "iteration 39\n",
            "iteration 40\n",
            "iteration 41\n",
            "iteration 42\n",
            "iteration 43\n",
            "iteration 44\n",
            "iteration 45\n",
            "iteration 46\n",
            "iteration 47\n",
            "iteration 48\n",
            "iteration 49\n",
            "iteration 50\n",
            "iteration 51\n",
            "iteration 52\n",
            "iteration 53\n",
            "iteration 54\n",
            "iteration 55\n",
            "iteration 56\n",
            "iteration 57\n",
            "iteration 58\n",
            "iteration 59\n",
            "iteration 60\n",
            "iteration 61\n",
            "iteration 62\n",
            "iteration 63\n",
            "iteration 64\n",
            "iteration 65\n",
            "iteration 66\n",
            "iteration 67\n",
            "iteration 68\n",
            "iteration 69\n",
            "iteration 70\n",
            "iteration 71\n",
            "iteration 72\n",
            "iteration 73\n",
            "iteration 74\n",
            "iteration 75\n",
            "iteration 76\n",
            "iteration 77\n",
            "iteration 78\n",
            "iteration 79\n",
            "iteration 80\n",
            "iteration 81\n",
            "iteration 82\n",
            "iteration 83\n",
            "iteration 84\n",
            "iteration 85\n",
            "iteration 86\n",
            "iteration 87\n",
            "iteration 88\n",
            "iteration 89\n",
            "iteration 90\n",
            "iteration 91\n",
            "iteration 92\n",
            "iteration 93\n",
            "iteration 94\n",
            "iteration 95\n",
            "iteration 96\n",
            "iteration 97\n",
            "iteration 98\n",
            "iteration 99\n",
            "Model Saved\n"
          ],
          "name": "stdout"
        }
      ]
    },
    {
      "metadata": {
        "id": "v0avQOkIySrr",
        "colab_type": "code",
        "colab": {
          "base_uri": "https://localhost:8080/",
          "height": 170
        },
        "outputId": "4283a831-d16c-4812-de53-26cd1d94a66b"
      },
      "cell_type": "code",
      "source": [
        "from gensim.models.doc2vec import Doc2Vec\n",
        "\n",
        "model= Doc2Vec.load(\"d2v.model\")\n",
        "#to find the vector of a document which is not in training data\n",
        "test_data = word_tokenize(\"fashion model fitness trainer\".lower())\n",
        "v1 = model.infer_vector(test_data)\n",
        "print(\"V1_infer\", v1)\n"
      ],
      "execution_count": 165,
      "outputs": [
        {
          "output_type": "stream",
          "text": [
            "V1_infer [ 0.00927705  0.05612795 -0.03488512 -0.00738105  0.00738959  0.00785484\n",
            " -0.01687912 -0.01879356  0.00421187  0.01816909  0.03531862  0.0299735\n",
            "  0.03485624  0.02526506 -0.01981493  0.03005032  0.05091463 -0.07181307\n",
            " -0.02663237 -0.01983854  0.00097624  0.01170029 -0.00110802  0.008795\n",
            "  0.05726796 -0.01976479 -0.06185301 -0.00089896 -0.0540213   0.03356068\n",
            "  0.00038033 -0.05646054 -0.01279378 -0.00936368 -0.03147402 -0.02229959\n",
            "  0.00528346 -0.0384805  -0.0518216   0.04562261 -0.01469136 -0.07897244\n",
            " -0.06720868  0.0386283  -0.03162161  0.05326229  0.00925055 -0.03238136\n",
            "  0.00458673  0.03128448]\n"
          ],
          "name": "stdout"
        }
      ]
    },
    {
      "metadata": {
        "id": "UwViQ_Lhy97Q",
        "colab_type": "code",
        "colab": {
          "base_uri": "https://localhost:8080/",
          "height": 88
        },
        "outputId": "80ee289e-81ed-4135-9246-856a9406b191"
      },
      "cell_type": "code",
      "source": [
        "# to find most similar doc using tags\n",
        "similar_doc = model.docvecs.most_similar(2)\n",
        "print(similar_doc)\n",
        "\n",
        "\n"
      ],
      "execution_count": 170,
      "outputs": [
        {
          "output_type": "stream",
          "text": [
            "[('3858', 0.7518623471260071), ('475', 0.7455729246139526), ('2756', 0.7323251366615295), ('3083', 0.7236141562461853), ('3773', 0.7048050761222839), ('3546', 0.6992402076721191), ('4327', 0.6969043612480164), ('2817', 0.6956058740615845), ('1819', 0.6948752999305725), ('2639', 0.6881739497184753)]\n"
          ],
          "name": "stdout"
        },
        {
          "output_type": "stream",
          "text": [
            "/usr/local/lib/python3.6/dist-packages/gensim/matutils.py:737: FutureWarning: Conversion of the second argument of issubdtype from `int` to `np.signedinteger` is deprecated. In future, it will be treated as `np.int64 == np.dtype(int).type`.\n",
            "  if np.issubdtype(vec.dtype, np.int):\n"
          ],
          "name": "stderr"
        }
      ]
    },
    {
      "metadata": {
        "id": "1JSkXOvCy-mT",
        "colab_type": "code",
        "colab": {
          "base_uri": "https://localhost:8080/",
          "height": 102
        },
        "outputId": "b1dce499-64b9-4254-c758-be7ef578e7d3"
      },
      "cell_type": "code",
      "source": [
        "# to find vector of doc in training data using tags or in other words, printing the vector of document at index 1 in training data\n",
        "print(model.docvecs['1'])"
      ],
      "execution_count": 148,
      "outputs": [
        {
          "output_type": "stream",
          "text": [
            "[ 2.4795823e+00  4.8792744e+00 -1.6633567e+00  2.8008206e+00\n",
            " -5.6367168e+00 -1.8615071e+00  4.6349570e-01 -1.5153526e+00\n",
            "  1.5341311e+00  1.3328561e+00  1.8994985e+00  1.0290266e+00\n",
            "  4.9031644e+00 -2.4187168e-01 -1.8598511e+00  1.2614959e-01\n",
            "  3.8988919e+00  1.4670449e-04 -1.4193164e+00  3.8588110e-01]\n"
          ],
          "name": "stdout"
        }
      ]
    },
    {
      "metadata": {
        "id": "wP7su-Jl0l5P",
        "colab_type": "code",
        "colab": {
          "base_uri": "https://localhost:8080/",
          "height": 34
        },
        "outputId": "8e9368b8-6c59-4b80-dd57-dddad9096e34"
      },
      "cell_type": "code",
      "source": [
        "tagged_data[3858]"
      ],
      "execution_count": 171,
      "outputs": [
        {
          "output_type": "execute_result",
          "data": {
            "text/plain": [
              "TaggedDocument(words=['24', 'welsh', 'gb', 'athlete', 'professional', 'bmx', 'rider', 'sponsors', 'gt', 'bikes', 'cannauk', 'fuse', 'protection', 'enquiries', 'email', 'gappyjonescouk'], tags=['3858'])"
            ]
          },
          "metadata": {
            "tags": []
          },
          "execution_count": 171
        }
      ]
    },
    {
      "metadata": {
        "id": "8IM1uC-_1N3x",
        "colab_type": "code",
        "colab": {}
      },
      "cell_type": "code",
      "source": [
        ""
      ],
      "execution_count": 0,
      "outputs": []
    }
  ]
}